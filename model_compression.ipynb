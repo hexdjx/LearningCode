{
 "cells": [
  {
   "cell_type": "markdown",
   "id": "0ae8fd21",
   "metadata": {},
   "source": [
    "# 模型剪枝\n",
    "* 模型剪枝，其实是一种从神经网络中移除\"不必要\"权重或偏差（weigths/bias）的模型压缩技术。\n",
    "\n",
    "## 非结构化剪枝\n",
    "* 非结构化剪枝（Unstructured Puning）是指修剪参数的单个元素，比如全连接层中的单个权重、卷积层中的单个卷积核参数元素，剪枝权重对象是随机的，没有特定结构，因此被称为非结构化剪枝。\n",
    "\n",
    "## 结构化剪枝\n",
    "* 与非结构化剪枝相反，结构化剪枝会剪枝整个参数结构。比如，丢弃整行或整列的权重，或者在卷积层中丢弃整个过滤器（Filter）。"
   ]
  },
  {
   "cell_type": "code",
   "execution_count": 33,
   "id": "7b30484f",
   "metadata": {},
   "outputs": [],
   "source": [
    "# PyTorch 的剪枝: 局部/全局\n",
    "# def random_unstructured(module, name, amount)   \n",
    "import torch  \n",
    "import torch.nn as nn\n",
    "import torch.nn.utils.prune as prune  "
   ]
  },
  {
   "cell_type": "code",
   "execution_count": 34,
   "id": "cb0f026d",
   "metadata": {},
   "outputs": [
    {
     "data": {
      "text/plain": [
       "tensor([[[[-0.2027,  0.1981, -0.1830, -0.0000],\n",
       "          [-0.1800,  0.0947, -0.0000,  0.0000],\n",
       "          [ 0.0759,  0.1382, -0.0000,  0.0000],\n",
       "          [ 0.0000, -0.0000, -0.0000,  0.0378]]]], grad_fn=<MulBackward0>)"
      ]
     },
     "execution_count": 34,
     "metadata": {},
     "output_type": "execute_result"
    }
   ],
   "source": [
    "conv = torch.nn.Conv2d(1, 1, 4)  \n",
    "prune.random_unstructured(conv, name=\"weight\", amount=0.5)  # amount 0~1的小数\n",
    "conv.weight  "
   ]
  },
  {
   "cell_type": "code",
   "execution_count": null,
   "id": "bfaa033b",
   "metadata": {},
   "outputs": [],
   "source": [
    "# def random_structured(module, name, amount, dim)  \n",
    "# def ln_structured(module, name, amount, n, dim, importance_scores=None)  \n",
    "# prune.ln_structured通过沿着具有最低 L范数的指定通道移除指定的(当前未修剪的)通道,修剪与调用name的参数相对应的张量\n",
    "# n 表示剪枝的范数，dim 表示剪枝的维度。"
   ]
  },
  {
   "cell_type": "code",
   "execution_count": null,
   "id": "d22cc1c9",
   "metadata": {},
   "outputs": [],
   "source": [
    "# 对于 torch.nn.Linear：\n",
    "# dim = 0：移除一个神经元。\n",
    "# dim = 1：移除与一个输入的所有连接。\n",
    "\n",
    "# 对于 torch.nn.Conv2d：\n",
    "# dim = 0(Channels) : 通道 channels 剪枝/过滤器 filters 剪枝\n",
    "# dim = 1（Neurons）: 二维卷积核 kernel 剪枝，即与输入通道相连接的 kernel"
   ]
  },
  {
   "cell_type": "code",
   "execution_count": null,
   "id": "73c6d7de",
   "metadata": {},
   "outputs": [],
   "source": [
    "# class torch.nn.Conv2d(in_channels, out_channels, kernel_size, stride=1, padding=0, dilation=1, groups=1, bias=True)  "
   ]
  },
  {
   "cell_type": "code",
   "execution_count": 29,
   "id": "4c33e829",
   "metadata": {},
   "outputs": [
    {
     "name": "stdout",
     "output_type": "stream",
     "text": [
      "tensor([0.7975, 0.7007], grad_fn=<NormBackward1>)\n"
     ]
    }
   ],
   "source": [
    "conv = torch.nn.Conv2d(2, 3, 3)  \n",
    "norm1 = torch.norm(conv.weight, p=2, dim=[0,2,3])  \n",
    "# print(conv.weight.shape) \n",
    "print(norm1)"
   ]
  },
  {
   "cell_type": "code",
   "execution_count": 30,
   "id": "37da05d5",
   "metadata": {},
   "outputs": [
    {
     "name": "stdout",
     "output_type": "stream",
     "text": [
      "tensor([[[[-0.1528, -0.0951, -0.2319],\n",
      "          [-0.2225, -0.1376,  0.1903],\n",
      "          [ 0.1235,  0.1266, -0.0169]],\n",
      "\n",
      "         [[ 0.0000,  0.0000, -0.0000],\n",
      "          [-0.0000, -0.0000,  0.0000],\n",
      "          [ 0.0000,  0.0000,  0.0000]]],\n",
      "\n",
      "\n",
      "        [[[ 0.0142,  0.0704, -0.1438],\n",
      "          [ 0.1394,  0.1435,  0.2115],\n",
      "          [ 0.2095, -0.1222, -0.1499]],\n",
      "\n",
      "         [[-0.0000, -0.0000, -0.0000],\n",
      "          [ 0.0000, -0.0000,  0.0000],\n",
      "          [ 0.0000,  0.0000,  0.0000]]],\n",
      "\n",
      "\n",
      "        [[[ 0.1998, -0.2259, -0.1784],\n",
      "          [-0.0284,  0.0420,  0.2357],\n",
      "          [ 0.1729, -0.1041,  0.0025]],\n",
      "\n",
      "         [[ 0.0000, -0.0000, -0.0000],\n",
      "          [ 0.0000,  0.0000, -0.0000],\n",
      "          [ 0.0000,  0.0000,  0.0000]]]], grad_fn=<MulBackward0>)\n"
     ]
    }
   ],
   "source": [
    "prune.ln_structured(conv, name=\"weight\", amount=1, n=2, dim=1)  \n",
    "print(conv.weight)  "
   ]
  },
  {
   "cell_type": "code",
   "execution_count": 42,
   "id": "00c614d1",
   "metadata": {},
   "outputs": [
    {
     "name": "stdout",
     "output_type": "stream",
     "text": [
      "LeNet(\n",
      "  (conv1): Conv2d(1, 6, kernel_size=(3, 3), stride=(1, 1))\n",
      "  (conv2): Conv2d(6, 16, kernel_size=(3, 3), stride=(1, 1))\n",
      "  (fc1): Linear(in_features=400, out_features=120, bias=True)\n",
      "  (fc2): Linear(in_features=120, out_features=84, bias=True)\n",
      "  (fc3): Linear(in_features=84, out_features=10, bias=True)\n",
      ")\n"
     ]
    }
   ],
   "source": [
    "# 全局非结构化剪枝\n",
    "# def global_unstructured(parameters, pruning_method, **kwargs)  \n",
    "device = torch.device(\"cuda\" if torch.cuda.is_available() else \"cpu\")  \n",
    "  \n",
    "class LeNet(nn.Module):  \n",
    "    def __init__(self):  \n",
    "        super(LeNet, self).__init__()  \n",
    "        # 1 input image channel, 6 output channels, 3x3 square conv kernel  \n",
    "        self.conv1 = nn.Conv2d(1, 6, 3)  \n",
    "        self.conv2 = nn.Conv2d(6, 16, 3)  \n",
    "        self.fc1 = nn.Linear(16 * 5 * 5, 120)  # 5x5 image dimension  \n",
    "        self.fc2 = nn.Linear(120, 84)  \n",
    "        self.fc3 = nn.Linear(84, 10)  \n",
    "  \n",
    "    def forward(self, x):  \n",
    "        x = F.max_pool2d(F.relu(self.conv1(x)), (2, 2))  \n",
    "        x = F.max_pool2d(F.relu(self.conv2(x)), 2)  \n",
    "        x = x.view(-1, int(x.nelement() / x.shape[0]))  \n",
    "        x = F.relu(self.fc1(x))  \n",
    "        x = F.relu(self.fc2(x))  \n",
    "        x = self.fc3(x)  \n",
    "        return x  \n",
    "    \n",
    "model = LeNet().to(device=device)  \n",
    "print(model)"
   ]
  },
  {
   "cell_type": "code",
   "execution_count": 43,
   "id": "2c4f3b60",
   "metadata": {},
   "outputs": [
    {
     "name": "stdout",
     "output_type": "stream",
     "text": [
      "Sparsity in conv1.weight: 7.41%\n",
      "Global sparsity: 20.00%\n"
     ]
    }
   ],
   "source": [
    "parameters_to_prune = (  \n",
    "    (model.conv1, 'weight'),  \n",
    "    (model.conv2, 'weight'),  \n",
    "    (model.fc1, 'weight'),  \n",
    "    (model.fc2, 'weight'),  \n",
    "    (model.fc3, 'weight'),  \n",
    ")  \n",
    "  \n",
    "prune.global_unstructured(  \n",
    "    parameters_to_prune,  \n",
    "    pruning_method=prune.L1Unstructured,  \n",
    "    amount=0.2,  \n",
    ")  \n",
    "# 计算卷积层和整个模型的稀疏度  \n",
    "# 其实调用的是 Tensor.numel 函数，返回输入张量中元素的总数  \n",
    "print(  \n",
    "    \"Sparsity in conv1.weight: {:.2f}%\".format(  \n",
    "        100. * float(torch.sum(model.conv1.weight == 0))  \n",
    "        / float(model.conv1.weight.nelement())  \n",
    "    )  \n",
    ")  \n",
    "print(  \n",
    "    \"Global sparsity: {:.2f}%\".format(  \n",
    "        100. * float(  \n",
    "            torch.sum(model.conv1.weight == 0)  \n",
    "            + torch.sum(model.conv2.weight == 0)  \n",
    "            + torch.sum(model.fc1.weight == 0)  \n",
    "            + torch.sum(model.fc2.weight == 0)  \n",
    "            + torch.sum(model.fc3.weight == 0)  \n",
    "        )  \n",
    "        / float(  \n",
    "            model.conv1.weight.nelement()  \n",
    "            + model.conv2.weight.nelement()  \n",
    "            + model.fc1.weight.nelement()  \n",
    "            + model.fc2.weight.nelement()  \n",
    "            + model.fc3.weight.nelement()  \n",
    "        )  \n",
    "    )  \n",
    ")  "
   ]
  },
  {
   "cell_type": "code",
   "execution_count": null,
   "id": "0cafb7a4",
   "metadata": {},
   "outputs": [],
   "source": [
    "# 前文的 local 剪枝的对象是特定网络层，而 global 剪枝是将模型看作一个整体去移除指定比例（数量）的参数，\n",
    "# 同时 global 剪枝结果会导致模型中每层的稀疏比例是不一样的。\n",
    "# 运行结果表明，虽然模型整体（全局）的稀疏度是 20%，但每个网络层的稀疏度不一定是 20%。"
   ]
  },
  {
   "cell_type": "code",
   "execution_count": null,
   "id": "4341edd2",
   "metadata": {},
   "outputs": [],
   "source": [
    "# torch.nn.utils.prune.is_pruned(module)\n",
    "# torch.nn.utils.prune.remove(module, name)"
   ]
  }
 ],
 "metadata": {
  "kernelspec": {
   "display_name": "Python 3",
   "language": "python",
   "name": "python3"
  },
  "language_info": {
   "codemirror_mode": {
    "name": "ipython",
    "version": 3
   },
   "file_extension": ".py",
   "mimetype": "text/x-python",
   "name": "python",
   "nbconvert_exporter": "python",
   "pygments_lexer": "ipython3",
   "version": "3.8.8"
  }
 },
 "nbformat": 4,
 "nbformat_minor": 5
}
