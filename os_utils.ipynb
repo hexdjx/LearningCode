{
 "cells": [
  {
   "cell_type": "markdown",
   "id": "48dbf8fc",
   "metadata": {},
   "source": [
    "# 1. 文件(夹)新增\n",
    "# 2. 文件内容新增\n",
    "# 3. 文件名查找与修改\n",
    "# 4. 文件(夹)删除"
   ]
  },
  {
   "cell_type": "code",
   "execution_count": 2,
   "id": "ad8f7a93",
   "metadata": {},
   "outputs": [],
   "source": [
    "import os # operator system"
   ]
  },
  {
   "cell_type": "code",
   "execution_count": 3,
   "id": "733aed98",
   "metadata": {},
   "outputs": [
    {
     "name": "stdout",
     "output_type": "stream",
     "text": [
      "D:\\LearningCode\n"
     ]
    }
   ],
   "source": [
    "cur_path = os.getcwd()\n",
    "print(cur_path) "
   ]
  },
  {
   "cell_type": "code",
   "execution_count": 4,
   "id": "f7a2a7d6",
   "metadata": {},
   "outputs": [
    {
     "data": {
      "text/plain": [
       "True"
      ]
     },
     "execution_count": 4,
     "metadata": {},
     "output_type": "execute_result"
    }
   ],
   "source": [
    "base_path = 'D:/' # self definition\n",
    "os.path.exists(base_path)"
   ]
  },
  {
   "cell_type": "code",
   "execution_count": 55,
   "id": "e107f55a",
   "metadata": {},
   "outputs": [],
   "source": [
    "def create_dir(path): \n",
    "    if not os.path.exists(path):\n",
    "        os.makedirs(path) # mkdir\n",
    "        print(\"文件夹创建成功！\")"
   ]
  },
  {
   "cell_type": "code",
   "execution_count": 219,
   "id": "2ccc13a1",
   "metadata": {},
   "outputs": [
    {
     "name": "stdout",
     "output_type": "stream",
     "text": [
      "D:/code/python\n"
     ]
    }
   ],
   "source": [
    "# new_dir = 'code/python'\n",
    "main_dir = 'code'\n",
    "sub_dir = 'python' \n",
    "new_dir = base_path + main_dir + '/' + sub_dir # + 拼接\n",
    "# print(new_dir)\n",
    "\n",
    "new_path = os.path.join(base_path, main_dir, sub_dir).replace('\\\\', '/') # \\t \\\\ \\n 转义字符\n",
    "print(new_path)\n",
    "create_dir(new_path)"
   ]
  },
  {
   "cell_type": "code",
   "execution_count": 7,
   "id": "ac6aef10",
   "metadata": {},
   "outputs": [
    {
     "name": "stdout",
     "output_type": "stream",
     "text": [
      "9×9乘法表：\n",
      "------------------------------\n",
      "1×1=1\t\n",
      "\n",
      "1×2=2\t2×2=4\t\n",
      "\n",
      "1×3=3\t2×3=6\t3×3=9\t\n",
      "\n",
      "1×4=4\t2×4=8\t3×4=12\t4×4=16\t\n",
      "\n",
      "1×5=5\t2×5=10\t3×5=15\t4×5=20\t5×5=25\t\n",
      "\n",
      "1×6=6\t2×6=12\t3×6=18\t4×6=24\t5×6=30\t6×6=36\t\n",
      "\n",
      "1×7=7\t2×7=14\t3×7=21\t4×7=28\t5×7=35\t6×7=42\t7×7=49\t\n",
      "\n",
      "1×8=8\t2×8=16\t3×8=24\t4×8=32\t5×8=40\t6×8=48\t7×8=56\t8×8=64\t\n",
      "\n",
      "1×9=9\t2×9=18\t3×9=27\t4×9=36\t5×9=45\t6×9=54\t7×9=63\t8×9=72\t9×9=81\t\n",
      "\n"
     ]
    }
   ],
   "source": [
    "# 9 * 9 的乘法表\n",
    "# print('9×9乘法表：\\n' + '-'*30)\n",
    "for i in range(1, 10): #[0,10)\n",
    "    for j in range(1, i+1):\n",
    "        print('{}×{}={}'.format(j, i, i*j), end='\\t')\n",
    "    print('\\n')"
   ]
  },
  {
   "cell_type": "code",
   "execution_count": 200,
   "id": "3d4ad7b3",
   "metadata": {},
   "outputs": [],
   "source": [
    "f_name= 'hello_world.py'\n",
    "file = os.path.join(new_path, f_name)\n",
    "\n",
    "# if not os.path.exists(file):\n",
    "open(file,\"w\").write(\"# coding=gb2312 \\n print('hello world!')\") # w, r, a\n",
    "\n",
    "with open(file,\"a\") as f:\n",
    "    f.write(\"\\nprint('9×9乘法表：\\\\n' + '-'*30) \\n\" )\n",
    "    f.write(\"for i in range(1, 10): #[0,10) \\n\")\n",
    "    f.write(\"    for j in range(1, i+1): \\n\" )\n",
    "    f.write(\"        print('{}×{}={}'.format(j, i, i*j), end='\\\\t') \\n\")\n",
    "    f.write(\"    print('\\\\n')\")\n",
    "\n",
    "# f.close()"
   ]
  },
  {
   "cell_type": "code",
   "execution_count": 176,
   "id": "6d50573f",
   "metadata": {},
   "outputs": [],
   "source": [
    "# print(new_path)\n",
    "# a = new_path.split('/')\n",
    "# a = '/'.join(a[:-1])\n",
    "# a = '/'.join(new_path.split('/')[:-1])\n",
    "# print(a)\n",
    "# print(os.listdir(a)) # os.path.isfile() isdir()"
   ]
  },
  {
   "cell_type": "code",
   "execution_count": 178,
   "id": "4571445b",
   "metadata": {},
   "outputs": [
    {
     "name": "stdout",
     "output_type": "stream",
     "text": [
      "D:/code/python\\hello_world.py\n",
      "D:/code/python\\乘法表.py\n"
     ]
    }
   ],
   "source": [
    "# 重命名\n",
    "new_file = '乘法表.py' #multi_table\n",
    "new_file = os.path.join(new_path, new_file)\n",
    "\n",
    "print(file)\n",
    "print(new_file)\n",
    "os.rename(file, new_file)"
   ]
  },
  {
   "cell_type": "code",
   "execution_count": 188,
   "id": "15f4c9e9",
   "metadata": {},
   "outputs": [],
   "source": [
    "for i in range(1, 100):\n",
    "    file = os.path.join(new_path,str(i)+ '_file.txt')\n",
    "    open(file, 'w')"
   ]
  },
  {
   "cell_type": "code",
   "execution_count": 198,
   "id": "fc7986f2",
   "metadata": {},
   "outputs": [
    {
     "name": "stdout",
     "output_type": "stream",
     "text": [
      "D:/code/python\\10_file.txt\n"
     ]
    }
   ],
   "source": [
    "import glob\n",
    "txt_list = glob.glob(new_path+'/*.txt')\n",
    "print(txt_list[0])"
   ]
  },
  {
   "cell_type": "code",
   "execution_count": 230,
   "id": "f7626171",
   "metadata": {},
   "outputs": [],
   "source": [
    "file_list = os.listdir(new_path)\n",
    "# print(file_list)\n",
    "txt_list = []\n",
    "for f in file_list:\n",
    "    if f.endswith('.txt'):\n",
    "        txt_list.append(f)\n",
    "# print(txt_list)"
   ]
  },
  {
   "cell_type": "code",
   "execution_count": 231,
   "id": "fca0a6a3",
   "metadata": {},
   "outputs": [
    {
     "name": "stdout",
     "output_type": "stream",
     "text": [
      "D:/code/python\n"
     ]
    }
   ],
   "source": [
    "print(new_path)\n",
    "# print(txt_list[0][:-4])\n",
    "for f in txt_list:\n",
    "    o_path = os.path.join(new_path, f)\n",
    "    n_name = f[:-4] + '.py'\n",
    "    n_path = os.path.join(new_path, n_name)\n",
    "    os.rename(o_path, n_path)"
   ]
  },
  {
   "cell_type": "code",
   "execution_count": 239,
   "id": "8e7ef17e",
   "metadata": {},
   "outputs": [],
   "source": [
    "# del f\n",
    "# f.close()\n",
    "\n",
    "import glob\n",
    "txt_list = glob.glob(new_path + '/*.py')\n",
    "# print(txt_list[0])\n",
    "# for i in txt_list:\n",
    "#     os.remove(i) # 移除文件\n",
    "\n",
    "# os.removedirs(new_path) #移除文件夹 # rmdir"
   ]
  },
  {
   "cell_type": "code",
   "execution_count": null,
   "id": "c06a290b",
   "metadata": {},
   "outputs": [],
   "source": []
  }
 ],
 "metadata": {
  "kernelspec": {
   "display_name": "pytracking",
   "language": "python",
   "name": "pytracking"
  },
  "language_info": {
   "codemirror_mode": {
    "name": "ipython",
    "version": 3
   },
   "file_extension": ".py",
   "mimetype": "text/x-python",
   "name": "python",
   "nbconvert_exporter": "python",
   "pygments_lexer": "ipython3",
   "version": "3.7.11"
  }
 },
 "nbformat": 4,
 "nbformat_minor": 5
}
