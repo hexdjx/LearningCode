{
 "cells": [
  {
   "cell_type": "markdown",
   "id": "678a7f2b",
   "metadata": {},
   "source": [
    "# Python 基础知识"
   ]
  },
  {
   "cell_type": "code",
   "execution_count": null,
   "id": "90adb013",
   "metadata": {},
   "outputs": [],
   "source": [
    "# 基础数据结构\n",
    "#栈/队列，列表，字典 list [], dict {key:value}, tuple (), set {} "
   ]
  },
  {
   "cell_type": "code",
   "execution_count": 13,
   "id": "6a470400",
   "metadata": {},
   "outputs": [
    {
     "data": {
      "text/plain": [
       "2"
      ]
     },
     "execution_count": 13,
     "metadata": {},
     "output_type": "execute_result"
    }
   ],
   "source": [
    "# list: append pop insert extend remove(del)\n",
    "i_list.append(10) # set add()\n",
    "i_list.pop()\n",
    "i_list.insert(0, 20)\n",
    "i_list.extend([10,20]) # dict update()\n",
    "i_list.remove(25) # set discard()\n",
    "i_list.index(20) # 取列表特定值的索引\n",
    "i_list.count(20)\n",
    "# del i_list[-2:] "
   ]
  },
  {
   "cell_type": "code",
   "execution_count": 10,
   "id": "c7a459a4",
   "metadata": {},
   "outputs": [],
   "source": [
    "# set\n",
    "s_list = set(i_list)\n",
    "s_list.add(15)\n",
    "s_list.discard(25)"
   ]
  },
  {
   "cell_type": "code",
   "execution_count": 11,
   "id": "d142f93a",
   "metadata": {},
   "outputs": [
    {
     "name": "stdout",
     "output_type": "stream",
     "text": [
      "89\n"
     ]
    }
   ],
   "source": [
    "# list 实现栈/队列\n",
    "i_list = [89,27,978,56,37,25]\n",
    "print(i_list.pop(0))"
   ]
  },
  {
   "cell_type": "code",
   "execution_count": 16,
   "id": "033d0c44",
   "metadata": {},
   "outputs": [
    {
     "data": {
      "text/plain": [
       "[30, 20]"
      ]
     },
     "execution_count": 16,
     "metadata": {},
     "output_type": "execute_result"
    }
   ],
   "source": [
    "list = [10,20]\n",
    "# list[0], list[1] = list[1], list[0]\n",
    "list[0]=30\n",
    "list"
   ]
  },
  {
   "cell_type": "code",
   "execution_count": 2,
   "id": "010fdb9f",
   "metadata": {},
   "outputs": [
    {
     "name": "stdout",
     "output_type": "stream",
     "text": [
      "[25, 27, 37, 56, 89, 978]\n"
     ]
    }
   ],
   "source": [
    "# 选择排序 O(n^2)\n",
    "i_list = [89,27,978,56,37,25]\n",
    "# i_list.sort()\n",
    "# print(i_list)\n",
    "# print(sorted(i_list))\n",
    "for i in range(len(i_list)):\n",
    "    for j in range(i+1, len(i_list)):\n",
    "        if i_list[i]>i_list[j]:\n",
    "            i_list[i], i_list[j] = i_list[j], i_list[i] # python 无需tmp\n",
    "            # c/c++\n",
    "#             int tmp；\n",
    "#             tmp = i_list[i]；\n",
    "#             i_list[i] = i_list[j]；\n",
    "#             i_list[j] = tmp；\n",
    "print(i_list)"
   ]
  },
  {
   "cell_type": "code",
   "execution_count": 18,
   "id": "f7830c4c",
   "metadata": {},
   "outputs": [
    {
     "data": {
      "text/plain": [
       "(1, 2)"
      ]
     },
     "execution_count": 18,
     "metadata": {},
     "output_type": "execute_result"
    }
   ],
   "source": [
    "# tuple\n",
    "a = tuple([1,2]) # 不可修改\n",
    "a"
   ]
  },
  {
   "cell_type": "code",
   "execution_count": 29,
   "id": "01be05e9",
   "metadata": {},
   "outputs": [
    {
     "name": "stdout",
     "output_type": "stream",
     "text": [
      "0 1\n",
      "1 2\n",
      "2 3\n"
     ]
    }
   ],
   "source": [
    "#dict\n",
    "dict = {'a':1, 'b':2}\n",
    "list = [1, 2, 3]\n",
    "# for key in dict: \n",
    "# for value in dict.values():\n",
    "# for key, value in dict.items():\n",
    "#     print(key,value, sep=':')\n",
    "for i, l in enumerate(list):\n",
    "    print(i,l,sep=' ')\n",
    "    "
   ]
  },
  {
   "cell_type": "code",
   "execution_count": 8,
   "id": "9875d7b2",
   "metadata": {},
   "outputs": [
    {
     "data": {
      "text/plain": [
       "'hlo'"
      ]
     },
     "execution_count": 8,
     "metadata": {},
     "output_type": "execute_result"
    }
   ],
   "source": [
    "# 字符串\n",
    "s = 'hello worlDrererere!' \n",
    "# s = s.capitalize() # upper lower title capitalize swapcase\n",
    "# s\n",
    "# print(s.count('re')) # count find/rfind\n",
    "s[0:6:2]\n",
    "# "
   ]
  },
  {
   "cell_type": "code",
   "execution_count": 10,
   "id": "e32d6d00",
   "metadata": {},
   "outputs": [
    {
     "name": "stdout",
     "output_type": "stream",
     "text": [
      "['A', 'B', 'C', 'D', 'E', 'F', 'G', 'H', 'I', 'J', 'K', 'L', 'M', 'N', 'O', 'P', 'Q', 'R', 'S', 'T', 'U', 'V', 'W', 'X', 'Y', 'Z']\n",
      "97\n"
     ]
    }
   ],
   "source": [
    "alpha = [] \n",
    "for i in range(ord('A'), ord('Z')+1): # ASCII\n",
    "    alpha.append(chr(i))\n",
    "print(alpha)"
   ]
  },
  {
   "cell_type": "code",
   "execution_count": 31,
   "id": "a74dace5",
   "metadata": {},
   "outputs": [
    {
     "data": {
      "text/plain": [
       "0"
      ]
     },
     "execution_count": 31,
     "metadata": {},
     "output_type": "execute_result"
    }
   ],
   "source": [
    "# queue \n",
    "queue=[]\n",
    "for i in range(3):\n",
    "    queue.append(i)\n",
    "queue.pop(0) \n",
    "# queue.pop() #stack"
   ]
  },
  {
   "cell_type": "code",
   "execution_count": 92,
   "id": "f625280a",
   "metadata": {},
   "outputs": [
    {
     "data": {
      "text/plain": [
       "25"
      ]
     },
     "execution_count": 92,
     "metadata": {},
     "output_type": "execute_result"
    }
   ],
   "source": [
    "# 递归\n",
    "#这是一个递归小案例，这个函数在函数内部自己调用了自listsum(numlist[1:])\n",
    "def listsum(numlist):\n",
    "    if len(numlist)==1:#当数组的长度为1时，代表是数组是一个数了\n",
    "        return numlist[0]\n",
    "    else:\n",
    "        return numlist[0] + listsum(numlist[1:])#第一个数加上后面的数，这里自己调用了自己，是数组不断递归的条件\n",
    "listsum([1,3,5,7,9])"
   ]
  },
  {
   "cell_type": "code",
   "execution_count": 20,
   "id": "649d3699",
   "metadata": {},
   "outputs": [
    {
     "data": {
      "text/plain": [
       "25"
      ]
     },
     "execution_count": 20,
     "metadata": {},
     "output_type": "execute_result"
    }
   ],
   "source": [
    "list = [1,3,5,7,9]\n",
    "sum(list)"
   ]
  }
 ],
 "metadata": {
  "kernelspec": {
   "display_name": "pytracking",
   "language": "python",
   "name": "pytracking"
  },
  "language_info": {
   "codemirror_mode": {
    "name": "ipython",
    "version": 3
   },
   "file_extension": ".py",
   "mimetype": "text/x-python",
   "name": "python",
   "nbconvert_exporter": "python",
   "pygments_lexer": "ipython3",
   "version": "3.7.11"
  }
 },
 "nbformat": 4,
 "nbformat_minor": 5
}
