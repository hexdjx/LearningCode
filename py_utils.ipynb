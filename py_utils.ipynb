{
 "cells": [
  {
   "cell_type": "markdown",
   "id": "678a7f2b",
   "metadata": {},
   "source": [
    "# Python 基础知识"
   ]
  },
  {
   "cell_type": "markdown",
   "id": "87057b81",
   "metadata": {},
   "source": [
    "基础语法\n",
    "1. 注释\n",
    "2. 缩进\n",
    "3. 变量"
   ]
  },
  {
   "cell_type": "code",
   "execution_count": 3,
   "id": "c99bcb05",
   "metadata": {},
   "outputs": [],
   "source": [
    "# print('hello world!') "
   ]
  },
  {
   "cell_type": "code",
   "execution_count": 11,
   "id": "1be122c8",
   "metadata": {},
   "outputs": [
    {
     "data": {
      "text/plain": [
       "'\\nlist = [2, 3, 4] \\nprint(list)\\n'"
      ]
     },
     "execution_count": 11,
     "metadata": {},
     "output_type": "execute_result"
    }
   ],
   "source": [
    "\"\"\"\n",
    "list = [2, 3, 4] \n",
    "print(list)\n",
    "\"\"\""
   ]
  },
  {
   "cell_type": "code",
   "execution_count": 5,
   "id": "dbaf5ce9",
   "metadata": {},
   "outputs": [
    {
     "name": "stdout",
     "output_type": "stream",
     "text": [
      "0\n"
     ]
    }
   ],
   "source": [
    "i = 0 # int i; i=0;\n",
    "if i>0: \n",
    "    print(i)\n",
    "    i = 0\n",
    "else:\n",
    "    print(0)"
   ]
  },
  {
   "cell_type": "code",
   "execution_count": 2,
   "id": "36e26412",
   "metadata": {},
   "outputs": [
    {
     "name": "stdout",
     "output_type": "stream",
     "text": [
      "0\n"
     ]
    },
    {
     "data": {
      "text/plain": [
       "int"
      ]
     },
     "execution_count": 2,
     "metadata": {},
     "output_type": "execute_result"
    }
   ],
   "source": [
    "i = 0\n",
    "print(i)\n",
    "type(i)"
   ]
  },
  {
   "cell_type": "markdown",
   "id": "5bc8a229",
   "metadata": {},
   "source": [
    "数据类型\n",
    "1.字符串\n",
    "2.数字\n",
    "3.容器\n",
    "4.布尔类型\n",
    "5.空值"
   ]
  },
  {
   "cell_type": "code",
   "execution_count": 7,
   "id": "5b5bffa7",
   "metadata": {},
   "outputs": [
    {
     "name": "stdout",
     "output_type": "stream",
     "text": [
      "我叫小红\n"
     ]
    }
   ],
   "source": [
    "str = \"hello world!\" # + % \n",
    "str1 = '我叫%s' %'小明'\n",
    "str2 = '我叫{}'.format('小红') \n",
    "print(str2)"
   ]
  },
  {
   "cell_type": "code",
   "execution_count": 10,
   "id": "5ceffe31",
   "metadata": {},
   "outputs": [
    {
     "data": {
      "text/plain": [
       "'1我叫'"
      ]
     },
     "execution_count": 10,
     "metadata": {},
     "output_type": "execute_result"
    }
   ],
   "source": [
    "i = '我叫' # 拼接\n",
    "j = '小红'\n",
    "j+i "
   ]
  },
  {
   "cell_type": "code",
   "execution_count": 36,
   "id": "9875d7b2",
   "metadata": {},
   "outputs": [
    {
     "data": {
      "text/plain": [
       "'hlo'"
      ]
     },
     "execution_count": 36,
     "metadata": {},
     "output_type": "execute_result"
    }
   ],
   "source": [
    "# 字符串\n",
    "s = 'hello worlDrererere!'\n",
    "# s = s.swapcase() # upper lower title capitalize swapcase\n",
    "# s\n",
    "# print(s.count('re')) # count find/rfind\n",
    "s[0:6:2] # slice 切片\n",
    "# "
   ]
  },
  {
   "cell_type": "code",
   "execution_count": 12,
   "id": "80873fab",
   "metadata": {},
   "outputs": [
    {
     "data": {
      "text/plain": [
       "float"
      ]
     },
     "execution_count": 12,
     "metadata": {},
     "output_type": "execute_result"
    }
   ],
   "source": [
    "num = 1.0\n",
    "type(num)"
   ]
  },
  {
   "cell_type": "code",
   "execution_count": 41,
   "id": "c7699b5c",
   "metadata": {},
   "outputs": [
    {
     "data": {
      "text/plain": [
       "'bello worlDrererere!'"
      ]
     },
     "execution_count": 41,
     "metadata": {},
     "output_type": "execute_result"
    }
   ],
   "source": [
    "s = 'bello worlDrererere!'\n",
    "s"
   ]
  },
  {
   "cell_type": "code",
   "execution_count": null,
   "id": "90adb013",
   "metadata": {},
   "outputs": [],
   "source": [
    "#list [], tuple (), set {}, dict {key:value} "
   ]
  },
  {
   "cell_type": "code",
   "execution_count": 7,
   "id": "4bfcca7a",
   "metadata": {},
   "outputs": [
    {
     "data": {
      "text/plain": [
       "tuple"
      ]
     },
     "execution_count": 7,
     "metadata": {},
     "output_type": "execute_result"
    }
   ],
   "source": [
    "i_list  = [10,'小明', 20, 25, 20]\n",
    "i_tuple = (1,)\n",
    "type(i_tuple)\n",
    "# t = tuple(i_list)"
   ]
  },
  {
   "cell_type": "code",
   "execution_count": 17,
   "id": "228af517",
   "metadata": {},
   "outputs": [
    {
     "data": {
      "text/plain": [
       "dict"
      ]
     },
     "execution_count": 17,
     "metadata": {},
     "output_type": "execute_result"
    }
   ],
   "source": [
    "dict = set()\n",
    "type(dict)"
   ]
  },
  {
   "cell_type": "code",
   "execution_count": 19,
   "id": "a10808ec",
   "metadata": {},
   "outputs": [
    {
     "data": {
      "text/plain": [
       "[10, 20, 20, 25, 20]"
      ]
     },
     "execution_count": 19,
     "metadata": {},
     "output_type": "execute_result"
    }
   ],
   "source": [
    "i_list[1] = 20\n",
    "i_list"
   ]
  },
  {
   "cell_type": "code",
   "execution_count": 20,
   "id": "db81786a",
   "metadata": {},
   "outputs": [
    {
     "data": {
      "text/plain": [
       "{10, 20, 25}"
      ]
     },
     "execution_count": 20,
     "metadata": {},
     "output_type": "execute_result"
    }
   ],
   "source": [
    "set(i_list)"
   ]
  },
  {
   "cell_type": "code",
   "execution_count": 57,
   "id": "584f973d",
   "metadata": {},
   "outputs": [
    {
     "name": "stdout",
     "output_type": "stream",
     "text": [
      "True\n"
     ]
    }
   ],
   "source": [
    "if '小明' in i_list:\n",
    "    print(True)\n",
    "else:\n",
    "    print(False)"
   ]
  },
  {
   "cell_type": "code",
   "execution_count": 71,
   "id": "203eb992",
   "metadata": {},
   "outputs": [
    {
     "data": {
      "text/plain": [
       "[20, 25, 20]"
      ]
     },
     "execution_count": 71,
     "metadata": {},
     "output_type": "execute_result"
    }
   ],
   "source": [
    "# i_list[0] = 0\n",
    "i_list"
   ]
  },
  {
   "cell_type": "code",
   "execution_count": 21,
   "id": "4af62335",
   "metadata": {},
   "outputs": [
    {
     "data": {
      "text/plain": [
       "[10, 20, 25, 20]"
      ]
     },
     "execution_count": 21,
     "metadata": {},
     "output_type": "execute_result"
    }
   ],
   "source": [
    "i_list.pop(1) \n",
    "i_list"
   ]
  },
  {
   "cell_type": "code",
   "execution_count": 18,
   "id": "f7830c4c",
   "metadata": {},
   "outputs": [
    {
     "data": {
      "text/plain": [
       "(1, 2)"
      ]
     },
     "execution_count": 18,
     "metadata": {},
     "output_type": "execute_result"
    }
   ],
   "source": [
    "# tuple\n",
    "a = tuple([1,2]) # 不可修改\n",
    "a"
   ]
  },
  {
   "cell_type": "code",
   "execution_count": 59,
   "id": "d22e7f13",
   "metadata": {},
   "outputs": [
    {
     "data": {
      "text/plain": [
       "tuple"
      ]
     },
     "execution_count": 59,
     "metadata": {},
     "output_type": "execute_result"
    }
   ],
   "source": [
    "tuple = (10,)\n",
    "type(tuple)"
   ]
  },
  {
   "cell_type": "code",
   "execution_count": 67,
   "id": "197f5720",
   "metadata": {},
   "outputs": [
    {
     "name": "stdout",
     "output_type": "stream",
     "text": [
      "dict_items([('name', '小明'), ('name_', '小明')])\n"
     ]
    }
   ],
   "source": [
    "dict = {} # set()\n",
    "# type(dict)\n",
    "dict['name']='小明'\n",
    "dict['name_']='小明'\n",
    "\n",
    "print(dict.items()) # keys values items"
   ]
  },
  {
   "cell_type": "code",
   "execution_count": 85,
   "id": "6a470400",
   "metadata": {},
   "outputs": [
    {
     "data": {
      "text/plain": [
       "[10, 20, 25, 20]"
      ]
     },
     "execution_count": 85,
     "metadata": {},
     "output_type": "execute_result"
    }
   ],
   "source": [
    "# list: append pop insert extend remove(del)\n",
    "# i_list.append(10) # set add() update()\n",
    "# i_list.pop()\n",
    "# i_list.insert(0, 20)\n",
    "# i_list.extend([10,20]) # dict update()\n",
    "# i_list.remove(25) # set discard()\n",
    "# i_list.index(20) # 取列表特定值的索引\n",
    "# i_list.count(20)\n",
    "del i_list[1] \n",
    "i_list"
   ]
  },
  {
   "cell_type": "code",
   "execution_count": 10,
   "id": "c7a459a4",
   "metadata": {},
   "outputs": [],
   "source": [
    "# set\n",
    "s_list = set(i_list)\n",
    "s_list.add(15)\n",
    "s_list.discard(25)"
   ]
  },
  {
   "cell_type": "code",
   "execution_count": 22,
   "id": "033d0c44",
   "metadata": {},
   "outputs": [
    {
     "data": {
      "text/plain": [
       "[20, 10]"
      ]
     },
     "execution_count": 22,
     "metadata": {},
     "output_type": "execute_result"
    }
   ],
   "source": [
    "# list 例子  # python 无需tmp\n",
    "list = [10,20]\n",
    "list[0], list[1] = list[1], list[0]\n",
    "# list[0]=30\n",
    "list\n",
    "            # c/c++\n",
    "#             int tmp；\n",
    "#             tmp = i_list[i]；\n",
    "#             i_list[i] = i_list[j]；\n",
    "#             i_list[j] = tmp；"
   ]
  },
  {
   "cell_type": "code",
   "execution_count": 92,
   "id": "9e15bdb5",
   "metadata": {},
   "outputs": [
    {
     "name": "stdout",
     "output_type": "stream",
     "text": [
      "<class 'bool'>\n"
     ]
    }
   ],
   "source": [
    "# 布尔类型\n",
    "# bool = True # False  \n",
    "flag = (1==1) # == > < !=\n",
    "print(type(flag))"
   ]
  },
  {
   "cell_type": "code",
   "execution_count": 26,
   "id": "20346572",
   "metadata": {},
   "outputs": [
    {
     "name": "stdout",
     "output_type": "stream",
     "text": [
      "False\n",
      "None\n"
     ]
    }
   ],
   "source": [
    "# 空值 None None 0 False\n",
    "# if None:\n",
    "#     print('yes')\n",
    "bool = None #0.001 \n",
    "if bool:\n",
    "    print(True)\n",
    "else:\n",
    "    print(False)\n",
    "    \n",
    "    \n",
    "i = None \n",
    "print(i)"
   ]
  },
  {
   "cell_type": "markdown",
   "id": "80140353",
   "metadata": {},
   "source": [
    "数据结构\n",
    "1.栈\n",
    "2.队列"
   ]
  },
  {
   "cell_type": "code",
   "execution_count": 102,
   "id": "d142f93a",
   "metadata": {},
   "outputs": [
    {
     "name": "stdout",
     "output_type": "stream",
     "text": [
      "[89, 56, 37, 25, 30]\n"
     ]
    }
   ],
   "source": [
    "# list 实现栈/队列\n",
    "i_list = [89,56,37,25]\n",
    "# i_list.pop()\n",
    "i_list.append(30)\n",
    "print(i_list)"
   ]
  },
  {
   "cell_type": "code",
   "execution_count": 104,
   "id": "a74dace5",
   "metadata": {},
   "outputs": [
    {
     "data": {
      "text/plain": [
       "2"
      ]
     },
     "execution_count": 104,
     "metadata": {},
     "output_type": "execute_result"
    }
   ],
   "source": [
    "# queue \n",
    "queue=[]\n",
    "for i in range(3):\n",
    "    queue.append(i)\n",
    "# queue.pop(0) \n",
    "queue.pop() #stack"
   ]
  },
  {
   "cell_type": "markdown",
   "id": "ab7ea808",
   "metadata": {},
   "source": [
    "条件判断"
   ]
  },
  {
   "cell_type": "code",
   "execution_count": null,
   "id": "a7c824ab",
   "metadata": {},
   "outputs": [],
   "source": [
    "# Python没有switch-case语句\n",
    "# if-else if-elif-else"
   ]
  },
  {
   "cell_type": "code",
   "execution_count": 64,
   "id": "01d37c82",
   "metadata": {},
   "outputs": [
    {
     "name": "stdout",
     "output_type": "stream",
     "text": [
      "True\n"
     ]
    }
   ],
   "source": [
    "if True:\n",
    "    print(True)\n",
    "else:\n",
    "    print(False)"
   ]
  },
  {
   "cell_type": "code",
   "execution_count": null,
   "id": "801f7f1f",
   "metadata": {},
   "outputs": [],
   "source": [
    "# == != >= <= \n",
    "# and or not #& | !"
   ]
  },
  {
   "cell_type": "code",
   "execution_count": 105,
   "id": "5007414a",
   "metadata": {},
   "outputs": [
    {
     "name": "stdout",
     "output_type": "stream",
     "text": [
      "3\n"
     ]
    }
   ],
   "source": [
    "# 三目运算符\n",
    "# 判断条件(返回布尔值) ? 为真时的结果 ：为假时的结果\n",
    "# int x=2; x = x%2==0 ? x+1 : x;\n",
    "x = 3\n",
    "x = x+1 if x%2==0 else x\n",
    "print(x)"
   ]
  },
  {
   "cell_type": "markdown",
   "id": "2c63ac47",
   "metadata": {},
   "source": [
    "循环"
   ]
  },
  {
   "cell_type": "code",
   "execution_count": null,
   "id": "bf4e6410",
   "metadata": {},
   "outputs": [],
   "source": [
    "# Python 中没有 do..while 循环\n",
    "# for i in 容器: \n",
    "#      要做的事情"
   ]
  },
  {
   "cell_type": "code",
   "execution_count": 109,
   "id": "e32d6d00",
   "metadata": {},
   "outputs": [
    {
     "name": "stdout",
     "output_type": "stream",
     "text": [
      "['A', 'B', 'C', 'D', 'E', 'F', 'G', 'H', 'I', 'J', 'K', 'L', 'M', 'N', 'O', 'P', 'Q', 'R', 'S', 'T', 'U', 'V', 'W', 'X', 'Y', 'Z']\n"
     ]
    }
   ],
   "source": [
    "alpha = [] \n",
    "# for i in range(ord('A'), ord('Z')+1): # ASCII\n",
    "for i in range(65, 91): \n",
    "    alpha.append(chr(i))\n",
    "print(alpha)"
   ]
  },
  {
   "cell_type": "code",
   "execution_count": 108,
   "id": "cd4ac6ec",
   "metadata": {},
   "outputs": [
    {
     "data": {
      "text/plain": [
       "90"
      ]
     },
     "execution_count": 108,
     "metadata": {},
     "output_type": "execute_result"
    }
   ],
   "source": [
    "ord('Z')"
   ]
  },
  {
   "cell_type": "code",
   "execution_count": 111,
   "id": "010fdb9f",
   "metadata": {},
   "outputs": [
    {
     "name": "stdout",
     "output_type": "stream",
     "text": [
      "[25, 27, 37, 56, 89, 978]\n"
     ]
    }
   ],
   "source": [
    "# 冒泡排序\n",
    "i_list = [89,27,978,56,37,25]\n",
    "# i_list.sort()\n",
    "# print(i_list)\n",
    "# print(sorted(i_list))\n",
    "for i in range(len(i_list)):\n",
    "    for j in range(0, len(i_list)-i-1):\n",
    "        if i_list[j]>i_list[j+1]:\n",
    "            i_list[j], i_list[j+1] = i_list[j+1], i_list[j] # python 无需tmp\n",
    "            # c/c++\n",
    "#             int tmp；\n",
    "#             tmp = i_list[j]；\n",
    "#             i_list[j] = i_list[j+1]；\n",
    "#             i_list[j+1] = tmp；\n",
    "print(i_list)"
   ]
  },
  {
   "cell_type": "code",
   "execution_count": 116,
   "id": "4fbc6148",
   "metadata": {},
   "outputs": [
    {
     "name": "stdout",
     "output_type": "stream",
     "text": [
      "1×1=1\t\n",
      "\n",
      "1×2=2\t2×2=4\t\n",
      "\n",
      "1×3=3\t2×3=6\t3×3=9\t\n",
      "\n",
      "1×4=4\t2×4=8\t3×4=12\t4×4=16\t\n",
      "\n",
      "1×5=5\t2×5=10\t3×5=15\t4×5=20\t5×5=25\t\n",
      "\n",
      "1×6=6\t2×6=12\t3×6=18\t4×6=24\t5×6=30\t6×6=36\t\n",
      "\n",
      "1×7=7\t2×7=14\t3×7=21\t4×7=28\t5×7=35\t6×7=42\t7×7=49\t\n",
      "\n",
      "1×8=8\t2×8=16\t3×8=24\t4×8=32\t5×8=40\t6×8=48\t7×8=56\t8×8=64\t\n",
      "\n",
      "1×9=9\t2×9=18\t3×9=27\t4×9=36\t5×9=45\t6×9=54\t7×9=63\t8×9=72\t9×9=81\t\n",
      "\n"
     ]
    }
   ],
   "source": [
    "# 9 * 9 的乘法表\n",
    "# print('9×9乘法表：\\n' + '-'*30)\n",
    "for i in range(1, 10): #[0,10)\n",
    "    for j in range(1, i+1):\n",
    "        print('{}×{}={}'.format(j, i, i*j), end='\\t')\n",
    "    print('\\n')"
   ]
  },
  {
   "cell_type": "code",
   "execution_count": 119,
   "id": "01be05e9",
   "metadata": {},
   "outputs": [
    {
     "name": "stdout",
     "output_type": "stream",
     "text": [
      "2 1\n",
      "2 2\n",
      "2 3\n"
     ]
    }
   ],
   "source": [
    "#dict\n",
    "dict = {'a':1, 'b':2}\n",
    "list = [1, 2, 3]\n",
    "# for key in dict: \n",
    "# for value in dict.keys(): # values\n",
    "#     print(value)\n",
    "# for key, value in dict.items():\n",
    "#     print(key,value, sep=':')\n",
    "for l in (list):\n",
    "    print(,l,sep=' ')"
   ]
  },
  {
   "cell_type": "code",
   "execution_count": 87,
   "id": "8d5202a1",
   "metadata": {},
   "outputs": [
    {
     "name": "stdout",
     "output_type": "stream",
     "text": [
      "1\n",
      "2\n",
      "3\n",
      "4\n",
      "5\n"
     ]
    }
   ],
   "source": [
    "# while\n",
    "i = 0 \n",
    "while i<5:\n",
    "    i+=1\n",
    "    if i == 2:\n",
    "        break\n",
    "    print(i)"
   ]
  },
  {
   "cell_type": "code",
   "execution_count": null,
   "id": "59b048d8",
   "metadata": {},
   "outputs": [],
   "source": [
    "# continue/break"
   ]
  },
  {
   "cell_type": "markdown",
   "id": "5564a309",
   "metadata": {},
   "source": [
    "函数/类"
   ]
  },
  {
   "cell_type": "code",
   "execution_count": 3,
   "id": "f1881f50",
   "metadata": {},
   "outputs": [
    {
     "name": "stdout",
     "output_type": "stream",
     "text": [
      "无参函数\n"
     ]
    }
   ],
   "source": [
    "def fun():\n",
    "    print(\"无参函数\") \n",
    "fun()"
   ]
  },
  {
   "cell_type": "code",
   "execution_count": 10,
   "id": "26561a7a",
   "metadata": {},
   "outputs": [
    {
     "data": {
      "text/plain": [
       "2"
      ]
     },
     "execution_count": 10,
     "metadata": {},
     "output_type": "execute_result"
    }
   ],
   "source": [
    "def fun1(i=1):\n",
    "    print(i)\n",
    "#     return i\n",
    "fun1(i=2)"
   ]
  },
  {
   "cell_type": "code",
   "execution_count": 11,
   "id": "f625280a",
   "metadata": {},
   "outputs": [
    {
     "data": {
      "text/plain": [
       "25"
      ]
     },
     "execution_count": 11,
     "metadata": {},
     "output_type": "execute_result"
    }
   ],
   "source": [
    "# 递归\n",
    "#这是一个递归小案例，这个函数在函数内部自己调用了自listsum(numlist[1:])\n",
    "def listsum(numlist):\n",
    "    if len(numlist)==1:#当数组的长度为1时，代表是数组是一个数了\n",
    "        return numlist[0]\n",
    "    else:\n",
    "        return numlist[0] + listsum(numlist[1:])#第一个数加上后面的数，这里自己调用了自己，是数组不断递归的条件\n",
    "listsum([1,3,5,7,9])"
   ]
  },
  {
   "cell_type": "code",
   "execution_count": 20,
   "id": "649d3699",
   "metadata": {},
   "outputs": [
    {
     "data": {
      "text/plain": [
       "25"
      ]
     },
     "execution_count": 20,
     "metadata": {},
     "output_type": "execute_result"
    }
   ],
   "source": [
    "list = [1,3,5,7,9]\n",
    "sum(list)"
   ]
  },
  {
   "cell_type": "code",
   "execution_count": 12,
   "id": "7aba21ba",
   "metadata": {},
   "outputs": [
    {
     "data": {
      "text/plain": [
       "3"
      ]
     },
     "execution_count": 12,
     "metadata": {},
     "output_type": "execute_result"
    }
   ],
   "source": [
    "def add(a,b):\n",
    "    return a + b\n",
    "a = 1\n",
    "b = 2\n",
    "add(a,b)"
   ]
  },
  {
   "cell_type": "code",
   "execution_count": 13,
   "id": "d6c3ad89",
   "metadata": {},
   "outputs": [
    {
     "name": "stdout",
     "output_type": "stream",
     "text": [
      "2\n",
      "1\n"
     ]
    }
   ],
   "source": [
    "def change_value(a=None): \n",
    "    a += 1\n",
    "    print(a)\n",
    "a = 1\n",
    "change_value(a=a)\n",
    "print(a)"
   ]
  },
  {
   "cell_type": "code",
   "execution_count": 14,
   "id": "dbe414f5",
   "metadata": {},
   "outputs": [
    {
     "name": "stdout",
     "output_type": "stream",
     "text": [
      "[10, 20]\n",
      "[10, 20]\n"
     ]
    }
   ],
   "source": [
    "def change_value_l(l=None): \n",
    "    l.append(20)\n",
    "    print(l)\n",
    "list = [10] \n",
    "change_value_l(list)\n",
    "print(list)"
   ]
  },
  {
   "cell_type": "code",
   "execution_count": 16,
   "id": "a8cd7641",
   "metadata": {},
   "outputs": [],
   "source": [
    "# 类\n",
    "class MyClass(object):\n",
    " \n",
    "    #初始化方法\n",
    "    def __init__(self,x, y):\n",
    "        super().__init__()\n",
    "        \n",
    "        self.y = y\n",
    "        self.x = x\n",
    " \n",
    "    #写在类之外定义的成为函数，在类之内定义的成为方法\n",
    "    def add(self):\n",
    "        self.y = self.y + self.x\n",
    "        print(self.y)\n",
    "#         print(x)\n",
    " \n",
    "    #静态方法，不可以写self\n",
    "    @staticmethod\n",
    "    def add1():\n",
    "        print('静态方法')\n",
    "        print(2+2)\n",
    "    \n",
    "    #类方法，写cls\n",
    "    @classmethod\n",
    "    def add2(cls,x,y): \n",
    "        c1 = cls(x,y)\n",
    "        return c1\n"
   ]
  },
  {
   "cell_type": "code",
   "execution_count": 17,
   "id": "01c1d074",
   "metadata": {},
   "outputs": [
    {
     "name": "stdout",
     "output_type": "stream",
     "text": [
      "3\n"
     ]
    }
   ],
   "source": [
    "c = MyClass(1,2)\n",
    "c.add()"
   ]
  },
  {
   "cell_type": "code",
   "execution_count": 18,
   "id": "2fbb4f4d",
   "metadata": {},
   "outputs": [
    {
     "name": "stdout",
     "output_type": "stream",
     "text": [
      "5\n"
     ]
    }
   ],
   "source": [
    "c1 = MyClass.add2(2,3)\n",
    "c1.add()"
   ]
  },
  {
   "cell_type": "code",
   "execution_count": 19,
   "id": "edcec2bb",
   "metadata": {},
   "outputs": [
    {
     "name": "stdout",
     "output_type": "stream",
     "text": [
      "3\n"
     ]
    }
   ],
   "source": [
    "def fun_c(cls):\n",
    "    cls.add()\n",
    "c = MyClass(1,2)\n",
    "fun_c(c)"
   ]
  },
  {
   "cell_type": "markdown",
   "id": "35d25297",
   "metadata": {},
   "source": [
    "模块\n",
    "1. 内置模块\n",
    "2. 第三方包"
   ]
  },
  {
   "cell_type": "code",
   "execution_count": 28,
   "id": "803084ff",
   "metadata": {},
   "outputs": [
    {
     "data": {
      "text/plain": [
       "['D:\\\\LearningCode',\n",
       " 'D:\\\\anaconda3\\\\envs\\\\pytracking\\\\python37.zip',\n",
       " 'D:\\\\anaconda3\\\\envs\\\\pytracking\\\\DLLs',\n",
       " 'D:\\\\anaconda3\\\\envs\\\\pytracking\\\\lib',\n",
       " 'D:\\\\anaconda3\\\\envs\\\\pytracking',\n",
       " '',\n",
       " 'D:\\\\anaconda3\\\\envs\\\\pytracking\\\\lib\\\\site-packages',\n",
       " 'D:\\\\anaconda3\\\\envs\\\\pytracking\\\\lib\\\\site-packages\\\\win32',\n",
       " 'D:\\\\anaconda3\\\\envs\\\\pytracking\\\\lib\\\\site-packages\\\\win32\\\\lib',\n",
       " 'D:\\\\anaconda3\\\\envs\\\\pytracking\\\\lib\\\\site-packages\\\\Pythonwin',\n",
       " 'D:\\\\anaconda3\\\\envs\\\\pytracking\\\\lib\\\\site-packages\\\\IPython\\\\extensions',\n",
       " 'C:\\\\Users\\\\84945\\\\.ipython']"
      ]
     },
     "execution_count": 28,
     "metadata": {},
     "output_type": "execute_result"
    }
   ],
   "source": [
    "import sys\n",
    "sys.path"
   ]
  },
  {
   "cell_type": "code",
   "execution_count": 22,
   "id": "3b01ba6e",
   "metadata": {},
   "outputs": [
    {
     "name": "stdout",
     "output_type": "stream",
     "text": [
      "deque([10, 12, 30, 40])\n",
      "deque([12, 30, 40])\n"
     ]
    }
   ],
   "source": [
    "from collections import deque\n",
    "q = deque([10,12,30])\n",
    "q.append(40)\n",
    "print(q)\n",
    "q.popleft()\n",
    "print(q)"
   ]
  },
  {
   "cell_type": "code",
   "execution_count": 23,
   "id": "34df0f2e",
   "metadata": {},
   "outputs": [
    {
     "data": {
      "text/plain": [
       "deque([10, 12])"
      ]
     },
     "execution_count": 23,
     "metadata": {},
     "output_type": "execute_result"
    }
   ],
   "source": [
    "q = deque([10,12,30])\n",
    "q.pop()\n",
    "q"
   ]
  },
  {
   "cell_type": "code",
   "execution_count": 33,
   "id": "3bd01f1f",
   "metadata": {},
   "outputs": [
    {
     "name": "stdout",
     "output_type": "stream",
     "text": [
      "D:\\LearningCode\n"
     ]
    },
    {
     "data": {
      "text/plain": [
       "'LearningCode'"
      ]
     },
     "execution_count": 33,
     "metadata": {},
     "output_type": "execute_result"
    }
   ],
   "source": [
    "# 1. 文件(夹)新增\n",
    "# 2. 文件内容新增\n",
    "# 3. 文件名查找与修改\n",
    "# 4. 文件(夹)删除\n",
    "\n",
    "import os # operator system\n",
    "\n",
    "cur_path = os.getcwd()\n",
    "print(cur_path)\n",
    "os.path.exists(cur_path)\n",
    "os.path.basename(cur_path)"
   ]
  },
  {
   "cell_type": "code",
   "execution_count": null,
   "id": "797d713a",
   "metadata": {},
   "outputs": [],
   "source": [
    "def create_dir(path): \n",
    "    if not os.path.exists(path):\n",
    "        os.makedirs(path) # mkdir\n",
    "        print(\"文件夹创建成功！\")"
   ]
  },
  {
   "cell_type": "code",
   "execution_count": null,
   "id": "28974fee",
   "metadata": {},
   "outputs": [],
   "source": [
    "# new_dir = 'code/python'\n",
    "main_dir = 'code'\n",
    "sub_dir = 'python' \n",
    "new_dir = base_path + main_dir + '/' + sub_dir # + 拼接\n",
    "# print(new_dir)\n",
    "\n",
    "new_path = os.path.join(base_path, main_dir, sub_dir).replace('\\\\', '/') # \\t \\\\ \\n 转义字符\n",
    "print(new_path)\n",
    "create_dir(new_path)\n",
    "\n",
    "# print(new_path)\n",
    "# a = new_path.split('/')\n",
    "# a = '/'.join(a[:-1])\n",
    "# a = '/'.join(new_path.split('/')[:-1])\n",
    "# print(a)\n",
    "# print(os.listdir(a)) # os.path.isfile() isdir()\n",
    "\n",
    "os.rename(file, new_file)\n",
    "\n",
    "for i in range(1, 100):\n",
    "    file = os.path.join(new_path,str(i)+ '_file.txt')\n",
    "    open(file, 'w')\n",
    "\n",
    "import glob\n",
    "txt_list = glob.glob(new_path+'/*.txt')\n",
    "print(txt_list[0])\n",
    "\n",
    "file_list = os.listdir(new_path)\n",
    "# print(file_list)\n",
    "txt_list = []\n",
    "for f in file_list:\n",
    "    if f.endswith('.txt'):\n",
    "        txt_list.append(f)\n",
    "# print(txt_list)\n",
    "\n",
    "print(new_path)\n",
    "# print(txt_list[0][:-4])\n",
    "for f in txt_list:\n",
    "    o_path = os.path.join(new_path, f)\n",
    "    n_name = f[:-4] + '.py'\n",
    "    n_path = os.path.join(new_path, n_name)\n",
    "    os.rename(o_path, n_path)\n",
    "\n",
    "# del f\n",
    "# f.close()\n",
    "\n",
    "txt_list = glob.glob(new_path + '/*.py')\n",
    "# print(txt_list[0])\n",
    "# for i in txt_list:\n",
    "#     os.remove(i) # 移除文件\n",
    "\n",
    "# os.removedirs(new_path) #移除文件夹 # rmdir"
   ]
  },
  {
   "cell_type": "code",
   "execution_count": null,
   "id": "95e61461",
   "metadata": {},
   "outputs": [],
   "source": [
    "# import 包名称\n",
    "# import 包名称 as 别名\n",
    "# from 包名称 Import 模块名"
   ]
  },
  {
   "cell_type": "code",
   "execution_count": 24,
   "id": "b1c6e53f",
   "metadata": {},
   "outputs": [
    {
     "name": "stdout",
     "output_type": "stream",
     "text": [
      "时间间隔：0.0 s\n"
     ]
    }
   ],
   "source": [
    "import time\n",
    "start_time = time.time()\n",
    "tic = time.time() - start_time\n",
    "print('时间间隔：{0} s'.format(tic))"
   ]
  },
  {
   "cell_type": "code",
   "execution_count": null,
   "id": "6029c10e",
   "metadata": {},
   "outputs": [],
   "source": [
    "import numpy as np\n",
    "import pandas as pd"
   ]
  }
 ],
 "metadata": {
  "kernelspec": {
   "display_name": "Python 3",
   "language": "python",
   "name": "python3"
  },
  "language_info": {
   "codemirror_mode": {
    "name": "ipython",
    "version": 3
   },
   "file_extension": ".py",
   "mimetype": "text/x-python",
   "name": "python",
   "nbconvert_exporter": "python",
   "pygments_lexer": "ipython3",
   "version": "3.8.8"
  }
 },
 "nbformat": 4,
 "nbformat_minor": 5
}
